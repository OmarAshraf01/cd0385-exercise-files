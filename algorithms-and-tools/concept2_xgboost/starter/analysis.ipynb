{
 "cells": [
  {
   "cell_type": "code",
   "execution_count": 3,
   "metadata": {},
   "outputs": [
    {
     "data": {
      "text/plain": [
       "[(8,\n",
       "  '# Create the wine `data` dataset as a dataframe and name the columns with `feature_names`\\ndf = pd.DataFrame(wine[\"data\"], columns=wine[\"feature_names\"])\\n\\n# Include the target as well\\ndf[\"target\"] = wine[\"target\"]',\n",
       "  \"# Create the wine `data` dataset as a dataframe and name the columns with `feature_names`\\ndf = pd.DataFrame(wine['data'], columns=wine['feature_names'])\\n\\n# Include the target as well\\ndf['target'] = wine['target']\"),\n",
       " (10,\n",
       "  '# Load your train/test dataframe into DMatrix\\ndtrain = xgb.DMatrix(\\n    df_train.loc[:, df_train.columns != \"target\"], label=df_train[\"target\"]\\n)\\ndtest = xgb.DMatrix(\\n    df_test.loc[:, df_test.columns != \"target\"], label=df_test[\"target\"]\\n)',\n",
       "  \"# Load your train/test dataframe into DMatrix\\ndtrain = xgb.DMatrix(df_train.drop('target', axis=1), label=df_train['target'])\\ndtest = xgb.DMatrix(df_test.drop('target', axis=1), label=df_test['target'])\"),\n",
       " (11,\n",
       "  '# How does the model perform on the training dataset and default model parameters?\\n# Using the hyperparameters in the requirements, is there improvement?\\n# Remember we use the test dataset to score the model\\nparam = {\"max_depth\": 5, \"eta\": 0.1, \"objective\": \"multi:softmax\", \"num_class\": 3}\\nnum_round = 100\\nbst = xgb.train(param, dtrain, num_round)',\n",
       "  '# How does the model perform on the training dataset and default model parameters?\\n# Using the hyperparameters in the requirements, is there improvement?\\n# Remember we use the test dataset to score the model\\nparam = {\"max_depth\": 5, \"eta\": 0.1, \"objective\": \"multi:softmax\", \"num_class\": 3,\\n         #\"num_round\": 100\\n         }\\nnum_round = 100\\nbst = xgb.train(param, dtrain,num_round)'),\n",
       " (13,\n",
       "  '# Accuracy score using scikit learn function for classification metric\\naccuracy_score(df_test[\"target\"], preds)',\n",
       "  \"# Accuracy score using scikit learn function for classification metric\\naccuracy_score(df_test['target'], preds)\"),\n",
       " (17,\n",
       "  '# Create the diabetes `data` dataset as a dataframe and name the columns with `feature_names`\\ndfd = pd.DataFrame(diabetes[\"data\"], columns=diabetes[\"feature_names\"])\\n\\n# Include the target as well\\ndfd[\"target\"] = diabetes[\"target\"]',\n",
       "  \"# Create the diabetes `data` dataset as a dataframe and name the columns with `feature_names`\\ndfd = pd.DataFrame(diabetes['data'], columns=diabetes['feature_names'])\\n\\n# Include the target as well\\ndfd['target'] = diabetes['target']\"),\n",
       " (19,\n",
       "  '# Load your train/test dataframe into DMatrix\\ndtrain = xgb.DMatrix(\\n    dfd_train.loc[:, dfd_train.columns != \"target\"], label=dfd_train[\"target\"]\\n)\\ndtest = xgb.DMatrix(\\n    dfd_test.loc[:, dfd_test.columns != \"target\"], label=dfd_test[\"target\"]\\n)',\n",
       "  \"# Load your train/test dataframe into DMatrix\\ndtrain = xgb.DMatrix(dfd_train.drop('target', axis=1), label=dfd_train['target'])\\ndtest = xgb.DMatrix(dfd_test.drop('target', axis=1), label=dfd_test['target'])\"),\n",
       " (20,\n",
       "  '# How does the model perform on the training dataset and default model parameters?\\n# Using the hyperparameters in the requirements, is there improvement?\\n# Remember we use the test dataset to score the model\\nparam = {\\n    \"max_depth\": 2,\\n    \"eta\": 0.03,\\n    \"gamma\": 0.09,\\n    \"colsample_bytree\": 0.5,\\n    \"objective\": \"reg:squarederror\",\\n}\\nnum_round = 100\\nbst = xgb.train(param, dtrain, num_round)',\n",
       "  '# How does the model perform on the training dataset and default model parameters?\\n# Using the hyperparameters in the requirements, is there improvement?\\n# Remember we use the test dataset to score the model\\nparam = {\"max_depth\": 2, \\n         \"eta\": 0.03,\\n         \"gamma\":0.09,\\n         \"colsample_bytree\":0.5,\\n         \"objective\": \"reg:squarederror\",\\n    }\\nnum_round_reg = 100\\nbst = xgb.train(param, dtrain, num_round_reg)'),\n",
       " (22,\n",
       "  '# R2 score using scikit learn function for regression metric\\nr2_score(dfd_test[\"target\"], preds)',\n",
       "  \"# R2 score using scikit learn function for regression metric\\nr2_score(dfd_test['target'], preds)\")]"
      ]
     },
     "execution_count": 3,
     "metadata": {},
     "output_type": "execute_result"
    }
   ],
   "source": [
    "import nbformat\n",
    "\n",
    "# Load the two Jupyter notebooks\n",
    "file_1 = \"solution_xgboost.ipynb\"\n",
    "file_2 = \"02_exercise_starter.ipynb\"\n",
    "\n",
    "with open(file_1, 'r', encoding='utf-8') as f:\n",
    "    nb1 = nbformat.read(f, as_version=4)\n",
    "\n",
    "with open(file_2, 'r', encoding='utf-8') as f:\n",
    "    nb2 = nbformat.read(f, as_version=4)\n",
    "\n",
    "# Extract the cells from both notebooks\n",
    "cells_1 = nb1.cells\n",
    "cells_2 = nb2.cells\n",
    "\n",
    "# Compare the cells to identify differences\n",
    "differences = []\n",
    "for i, (cell_1, cell_2) in enumerate(zip(cells_1, cells_2)):\n",
    "    if cell_1.source != cell_2.source:\n",
    "        differences.append((i, cell_1.source, cell_2.source))\n",
    "\n",
    "# Output the differences\n",
    "differences\n"
   ]
  },
  {
   "cell_type": "code",
   "execution_count": null,
   "metadata": {},
   "outputs": [],
   "source": []
  }
 ],
 "metadata": {
  "kernelspec": {
   "display_name": "base",
   "language": "python",
   "name": "python3"
  },
  "language_info": {
   "codemirror_mode": {
    "name": "ipython",
    "version": 3
   },
   "file_extension": ".py",
   "mimetype": "text/x-python",
   "name": "python",
   "nbconvert_exporter": "python",
   "pygments_lexer": "ipython3",
   "version": "3.12.4"
  }
 },
 "nbformat": 4,
 "nbformat_minor": 2
}
